{
 "cells": [
  {
   "cell_type": "code",
   "execution_count": null,
   "id": "bb1bcaa5",
   "metadata": {},
   "outputs": [],
   "source": [
    "!uv pip install numpy pandas scikit-learn"
   ]
  },
  {
   "cell_type": "code",
   "execution_count": 1,
   "id": "c3c90b57",
   "metadata": {},
   "outputs": [],
   "source": [
    "import numpy as np\n",
    "import pandas as pd\n",
    "import sklearn\n",
    "import os"
   ]
  },
  {
   "cell_type": "code",
   "execution_count": null,
   "id": "043e6a80",
   "metadata": {},
   "outputs": [],
   "source": []
  },
  {
   "cell_type": "code",
   "execution_count": 2,
   "metadata": {},
   "outputs": [],
   "source": [
    "text_path = '/pscratch/sd/p/pr4santh/Data/permutation_free/text_dump'"
   ]
  },
  {
   "cell_type": "code",
   "execution_count": 7,
   "id": "c8e07e9e",
   "metadata": {},
   "outputs": [],
   "source": [
    "ls = os.listdir(text_path)\n",
    "dct = {}\n",
    "\n",
    "for v in ls:\n",
    "    key = '-'.join(v.split('-')[:4])\n",
    "    if key not in dct:\n",
    "        dct[key] = []\n",
    "    dct[key].append(v)\n"
   ]
  },
  {
   "cell_type": "code",
   "execution_count": null,
   "id": "232bfc0d",
   "metadata": {},
   "outputs": [],
   "source": [
    "def read_txt(path):\n",
    "    with open(os.path.join(text_path,path),'r', encoding='utf-8') as f:\n",
    "        lines = f.read().split('\\n')\n",
    "    text_pairs = []\n",
    "    mx = 0 \n",
    "    mn = 100\n",
    "    x = []\n",
    "    for _line in lines:\n",
    "        arr = _line.split(':')\n",
    "        if len(arr) == 1:\n",
    "            continue\n",
    "        text_pairs.append({'Event Type': arr[0], \\\n",
    "                          'Feynman Diagram': arr[1],   \\\n",
    "                           'amp': arr[-2],        \\\n",
    "                           'sqamp': arr[-1] \\\n",
    "                          })\n",
    "    return text_pairs"
   ]
  },
  {
   "cell_type": "code",
   "execution_count": 4,
   "id": "c4e7714e",
   "metadata": {},
   "outputs": [],
   "source": [
    "def create_csv(name):\n",
    "    ret = []\n",
    "    for f in dct[name]:\n",
    "        txt =  read_txt(f)\n",
    "        ret.extend(txt)\n",
    "    df = pd.DataFrame(ret, columns=['Event Type', 'Feynman Diagram', 'amp', 'sqamp'])\n",
    "    df = df.astype({'Event Type': 'string', 'Feynman Diagram': 'string', 'amp': 'string', 'sqamp': 'string'})\n",
    "    save_path = f'/pscratch/sd/p/pr4santh/Data/permutation_free/{name}/{name}.csv'\n",
    "    os.makedirs(os.path.dirname(save_path), exist_ok=True)\n",
    "    df.to_csv(save_path, index=False)"
   ]
  },
  {
   "cell_type": "code",
   "execution_count": 36,
   "id": "c9c5a05b",
   "metadata": {},
   "outputs": [
    {
     "name": "stdout",
     "output_type": "stream",
     "text": [
      "QED-2-to-3\n",
      "EW-2-to-2\n"
     ]
    },
    {
     "name": "stdout",
     "output_type": "stream",
     "text": [
      "QCD-2-to-3\n",
      "QED-2-to-4\n",
      "QCD-2-to-2\n",
      "QED-2-to-2\n",
      "EW-2-to-3\n",
      "QCD-2-to-4\n"
     ]
    }
   ],
   "source": [
    "for file_name in dct.keys():\n",
    "    print(file_name)\n",
    "    create_csv(file_name)"
   ]
  },
  {
   "cell_type": "code",
   "execution_count": 13,
   "id": "b014e117",
   "metadata": {},
   "outputs": [],
   "source": [
    "def split_df(path, file_path):\n",
    "    df = pd.read_csv(file_path)\n",
    "    from sklearn.model_selection import train_test_split\n",
    "\n",
    "    train_df, temp_df = train_test_split(df, test_size=0.2, random_state=42, shuffle=True)\n",
    "    val_df, test_df = train_test_split(temp_df, test_size=0.5, random_state=42, shuffle=True)\n",
    "    train_df.to_csv(path+'/train.csv', index=False)\n",
    "    val_df.to_csv(path+'/val.csv', index=False)\n",
    "    test_df.to_csv(path+'/test.csv', index=False)"
   ]
  },
  {
   "cell_type": "code",
   "execution_count": 14,
   "id": "e1194950",
   "metadata": {},
   "outputs": [
    {
     "name": "stdout",
     "output_type": "stream",
     "text": [
      "QED-2-to-3\n",
      "EW-2-to-2\n"
     ]
    },
    {
     "name": "stdout",
     "output_type": "stream",
     "text": [
      "QCD-2-to-3\n",
      "QED-2-to-4\n",
      "QCD-2-to-2\n",
      "QED-2-to-2\n",
      "EW-2-to-3\n",
      "QCD-2-to-4\n"
     ]
    }
   ],
   "source": [
    "for file in dct.keys():\n",
    "    print(file)\n",
    "    fp = f'/pscratch/sd/p/pr4santh/Data/permutation_free/{file}/{file}.csv'\n",
    "    split_df(os.path.dirname(fp),fp)"
   ]
  },
  {
   "cell_type": "code",
   "execution_count": null,
   "id": "25fb5537",
   "metadata": {},
   "outputs": [
    {
     "data": {
      "text/plain": [
       "'/pscratch/sd/p/pr4santh/Data/permutation_free/QED-2-to-3'"
      ]
     },
     "execution_count": 11,
     "metadata": {},
     "output_type": "execute_result"
    }
   ],
   "source": []
  },
  {
   "cell_type": "code",
   "execution_count": null,
   "id": "4f3fbed6",
   "metadata": {},
   "outputs": [],
   "source": []
  }
 ],
 "metadata": {
  "kernelspec": {
   "display_name": "base",
   "language": "python",
   "name": "python3"
  },
  "language_info": {
   "codemirror_mode": {
    "name": "ipython",
    "version": 3
   },
   "file_extension": ".py",
   "mimetype": "text/x-python",
   "name": "python",
   "nbconvert_exporter": "python",
   "pygments_lexer": "ipython3",
   "version": "3.13.5"
  }
 },
 "nbformat": 4,
 "nbformat_minor": 5
}
